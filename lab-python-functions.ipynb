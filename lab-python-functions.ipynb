{
 "cells": [
  {
   "cell_type": "markdown",
   "id": "25d7736c-ba17-4aff-b6bb-66eba20fbf4e",
   "metadata": {},
   "source": [
    "# Lab | Functions"
   ]
  },
  {
   "cell_type": "markdown",
   "id": "0c581062-8967-4d93-b06e-62833222f930",
   "metadata": {
    "tags": []
   },
   "source": [
    "## Exercise: Managing Customer Orders with Functions\n",
    "\n",
    "In the previous exercise, you improved the code for managing customer orders by using loops and flow control. Now, let's take it a step further and refactor the code by introducing functions.\n",
    "\n",
    "Follow the steps below to complete the exercise:\n",
    "\n",
    "1. Define a function named `initialize_inventory` that takes `products` as a parameter. Inside the function, implement the code for initializing the inventory dictionary using a loop and user input.\n",
    "\n",
    "2. Define a function named `get_customer_orders` that takes no parameters. Inside the function, implement the code for prompting the user to enter the product names using a loop. The function should return the `customer_orders` set.\n",
    "\n",
    "3. Define a function named `update_inventory` that takes `customer_orders` and `inventory` as parameters. Inside the function, implement the code for updating the inventory dictionary based on the customer orders.\n",
    "\n",
    "4. Define a function named `calculate_order_statistics` that takes `customer_orders` and `products` as parameters. Inside the function, implement the code for calculating the order statistics (total products ordered, and percentage of unique products ordered). The function should return these values.\n",
    "\n",
    "5. Define a function named `print_order_statistics` that takes `order_statistics` as a parameter. Inside the function, implement the code for printing the order statistics.\n",
    "\n",
    "6. Define a function named `print_updated_inventory` that takes `inventory` as a parameter. Inside the function, implement the code for printing the updated inventory.\n",
    "\n",
    "7. Call the functions in the appropriate sequence to execute the program and manage customer orders.\n",
    "\n",
    "Hints for functions:\n",
    "\n",
    "- Consider the input parameters required for each function and their return values.\n",
    "- Utilize function parameters and return values to transfer data between functions.\n",
    "- Test your functions individually to ensure they work correctly.\n",
    "\n",
    "\n"
   ]
  },
  {
   "cell_type": "code",
   "execution_count": 13,
   "id": "74e79528",
   "metadata": {},
   "outputs": [
    {
     "name": "stdout",
     "output_type": "stream",
     "text": [
      "\n",
      "Enter the names of products the customer wants to order (type 'done' to finish):\n",
      "\n",
      "Order Statistics:\n",
      "Total unique products ordered: 3\n",
      "Percentage of unique products ordered: 60.00%\n",
      "\n",
      "Updated Inventory:\n",
      "T-shirt: 5\n",
      "Mug: 4\n",
      "Book: 4\n",
      "Hat: 4\n",
      "Keychain: 5\n"
     ]
    }
   ],
   "source": [
    "def initialize_inventory(products):\n",
    "    inventory = {}\n",
    "    for product in products:\n",
    "        while True:\n",
    "            try:\n",
    "                quantity = int(input(f\"Enter initial stock for {product}: \"))\n",
    "                if quantity < 0:\n",
    "                    print(\"Quantity cannot be negative. Try again.\")\n",
    "                    continue\n",
    "                inventory[product] = quantity\n",
    "                break\n",
    "            except ValueError:\n",
    "                print(\"Please enter a valid number.\")\n",
    "    return inventory\n",
    "\n",
    "def get_customer_orders(products):\n",
    "    customer_orders = set()\n",
    "    product_map = {p.lower(): p for p in products}\n",
    "    print(\"\\nEnter the names of products the customer wants to order (type 'done' to finish):\")\n",
    "    while True:\n",
    "        order = input(\"Product name: \").strip().lower()\n",
    "        if order.lower() == 'done':\n",
    "            break\n",
    "        if order in product_map:\n",
    "            customer_orders.add(product_map[order])\n",
    "        else:\n",
    "            print(f\"'{order}' is not a valid product. Please try again.\")\n",
    "    return customer_orders\n",
    "\n",
    "def update_inventory(customer_orders, inventory):\n",
    "    for order in customer_orders:\n",
    "        if order in inventory:\n",
    "            if inventory[order] > 0:\n",
    "                inventory[order] -= 1\n",
    "            else:\n",
    "                print(f\"{order} is out of stock.\")\n",
    "        else:\n",
    "            print(f\"{order} is not a valid product.\")\n",
    "\n",
    "def calculate_order_statistics(customer_orders, products):\n",
    "    total_products_ordered = len(customer_orders)\n",
    "    unique_products_available = len(products)\n",
    "    percentage_unique_ordered = (total_products_ordered / unique_products_available) * 100 if unique_products_available else 0\n",
    "    return total_products_ordered, percentage_unique_ordered\n",
    "\n",
    "def print_order_statistics(order_statistics):\n",
    "    total, percentage = order_statistics\n",
    "    print(\"\\nOrder Statistics:\")\n",
    "    print(f\"Total unique products ordered: {total}\")\n",
    "    print(f\"Percentage of unique products ordered: {percentage:.2f}%\")\n",
    "\n",
    "def print_updated_inventory(inventory):\n",
    "    print(\"\\nUpdated Inventory:\")\n",
    "    for product, quantity in inventory.items():\n",
    "        print(f\"{product}: {quantity}\")\n",
    "\n",
    "# Main program execution\n",
    "def main():\n",
    "    products = [\"T-shirt\", \"Mug\", \"Book\", \"Hat\", \"Keychain\"]\n",
    "    inventory = initialize_inventory(products)\n",
    "    customer_orders = get_customer_orders(products)\n",
    "    update_inventory(customer_orders, inventory)\n",
    "    order_stats = calculate_order_statistics(customer_orders, products)\n",
    "    print_order_statistics(order_stats)\n",
    "    print_updated_inventory(inventory)\n",
    "\n",
    "# Run the program\n",
    "main()\n",
    "\n"
   ]
  },
  {
   "cell_type": "markdown",
   "id": "85ad99e2",
   "metadata": {},
   "source": [
    "done\n"
   ]
  }
 ],
 "metadata": {
  "kernelspec": {
   "display_name": "base",
   "language": "python",
   "name": "python3"
  },
  "language_info": {
   "codemirror_mode": {
    "name": "ipython",
    "version": 3
   },
   "file_extension": ".py",
   "mimetype": "text/x-python",
   "name": "python",
   "nbconvert_exporter": "python",
   "pygments_lexer": "ipython3",
   "version": "3.11.7"
  }
 },
 "nbformat": 4,
 "nbformat_minor": 5
}
